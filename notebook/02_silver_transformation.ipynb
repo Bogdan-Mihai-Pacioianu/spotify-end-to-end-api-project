{
 "cells": [
  {
   "cell_type": "code",
   "execution_count": 0,
   "metadata": {
    "application/vnd.databricks.v1+cell": {
     "cellMetadata": {
      "byteLimit": 2048000,
      "rowLimit": 10000
     },
     "inputWidgets": {},
     "nuid": "35856457-52b1-42d6-9727-85f5b42458ef",
     "showTitle": true,
     "tableResultSettingsMap": {},
     "title": "Imports"
    }
   },
   "outputs": [],
   "source": [
    "from pyspark.sql.functions import col, to_timestamp, date_format, hour, dayofweek, expr, monotonically_increasing_id, explode\n",
    "from pyspark.sql.types import StringType"
   ]
  },
  {
   "cell_type": "code",
   "execution_count": 0,
   "metadata": {
    "application/vnd.databricks.v1+cell": {
     "cellMetadata": {
      "byteLimit": 2048000,
      "rowLimit": 10000
     },
     "inputWidgets": {},
     "nuid": "fa4412d3-01ab-4329-9289-2cb1ce9e3e40",
     "showTitle": true,
     "tableResultSettingsMap": {},
     "title": "Configuration"
    }
   },
   "outputs": [],
   "source": [
    "CATALOG_NAME = \"spotify_etl\"\n",
    "BRONZE_SCHEMA = \"bronze\"\n",
    "SILVER_SCHEMA = \"silver\"\n",
    "\n",
    "spark.sql(f\"CREATE SCHEMA IF NOT EXISTS {CATALOG_NAME}.{SILVER_SCHEMA}\")\n",
    "print(f\"Sursa (Bronze): {CATALOG_NAME}.{BRONZE_SCHEMA}\")\n",
    "print(f\"Destinația (Silver): {CATALOG_NAME}.{SILVER_SCHEMA}\")"
   ]
  },
  {
   "cell_type": "code",
   "execution_count": 0,
   "metadata": {
    "application/vnd.databricks.v1+cell": {
     "cellMetadata": {
      "byteLimit": 2048000,
      "rowLimit": 10000
     },
     "inputWidgets": {},
     "nuid": "ac95501e-c087-4b97-bb10-d35ac86d020d",
     "showTitle": true,
     "tableResultSettingsMap": {},
     "title": "dim_time_table"
    }
   },
   "outputs": [],
   "source": [
    "print(\"Creating silver.dim_time...\")\n",
    "\n",
    "# Extract all unique timestamps from the play history\n",
    "time_df = spark.table(f\"{CATALOG_NAME}.{BRONZE_SCHEMA}.bronze_play_history\") \\\n",
    "    .select(to_timestamp(col(\"played_at\")).alias(\"play_timestamp\")) \\\n",
    "    .distinct()\n",
    "\n",
    "# Enrich with temporal attributes\n",
    "dim_time = time_df \\\n",
    "    .withColumn(\"hour_of_day\", hour(col(\"play_timestamp\"))) \\\n",
    "    .withColumn(\"day_of_week_num\", dayofweek(col(\"play_timestamp\"))) \\\n",
    "    .withColumn(\"weekday_name\", date_format(col(\"play_timestamp\"), \"E\")) \\\n",
    "    .withColumn(\"month_name\", date_format(col(\"play_timestamp\"), \"MMM\")) \\\n",
    "    .withColumn(\"quarter\", date_format(col(\"play_timestamp\"), \"Q\").cast(\"int\")) \\\n",
    "    .withColumn(\"year\", date_format(col(\"play_timestamp\"), \"yyyy\").cast(\"int\"))\n",
    "\n",
    "# Save the dimension table\n",
    "dim_time.write.format(\"delta\").mode(\"overwrite\").option(\"overwriteSchema\", \"true\") \\\n",
    "    .saveAsTable(f\"{CATALOG_NAME}.{SILVER_SCHEMA}.dim_time\")\n",
    "\n",
    "print(f\"Table {CATALOG_NAME}.{SILVER_SCHEMA}.dim_time has been created.\")"
   ]
  },
  {
   "cell_type": "code",
   "execution_count": 0,
   "metadata": {
    "application/vnd.databricks.v1+cell": {
     "cellMetadata": {
      "byteLimit": 2048000,
      "rowLimit": 10000
     },
     "inputWidgets": {},
     "nuid": "c73dba1c-a403-4674-b49a-4cba15b464eb",
     "showTitle": true,
     "tableResultSettingsMap": {},
     "title": "dim_tracks_table"
    }
   },
   "outputs": [],
   "source": [
    "print(\"Creating silver.dim_tracks...\")\n",
    "\n",
    "from pyspark.sql.types import StructType, StructField, StringType, LongType, BooleanType\n",
    "from pyspark.sql.functions import lit\n",
    "\n",
    "# 🔒 1️⃣ Schema fixă (stabilă pentru Power BI)\n",
    "silver_dim_tracks_schema = StructType([\n",
    "    StructField(\"track_id\", StringType()),\n",
    "    StructField(\"track_name\", StringType()),\n",
    "    StructField(\"album_id\", StringType()),\n",
    "    StructField(\"album_name\", StringType()),\n",
    "    StructField(\"artist_id\", StringType()),\n",
    "    StructField(\"artist_name\", StringType()),\n",
    "    StructField(\"duration_ms\", LongType()),\n",
    "    StructField(\"popularity\", LongType()),\n",
    "    StructField(\"explicit\", BooleanType()),\n",
    "    StructField(\"release_date\", StringType()),\n",
    "    StructField(\"preview_url\", StringType())  # <— menținut chiar dacă lipsește în sursă\n",
    "])\n",
    "\n",
    "# 2️⃣ Citim datele din Bronze\n",
    "tracks_df = spark.table(f\"{CATALOG_NAME}.{BRONZE_SCHEMA}.bronze_tracks\")\n",
    "\n",
    "# 3️⃣ Dacă preview_url lipsește, o adăugăm cu None\n",
    "if \"preview_url\" not in tracks_df.columns:\n",
    "    tracks_df = tracks_df.withColumn(\"preview_url\", lit(None).cast(StringType()))\n",
    "\n",
    "# 4️⃣ Eliminăm duplicatele și rearanjăm coloanele conform schemei\n",
    "dim_tracks = tracks_df.dropDuplicates([\"track_id\"]) \\\n",
    "                      .select([f.name for f in silver_dim_tracks_schema])\n",
    "\n",
    "# 5️⃣ Scriem în Silver cu schema stabilizată\n",
    "dim_tracks.write.format(\"delta\").mode(\"overwrite\").option(\"overwriteSchema\", \"true\") \\\n",
    "    .saveAsTable(f\"{CATALOG_NAME}.{SILVER_SCHEMA}.dim_tracks\")\n",
    "\n",
    "print(f\"✅ Table {CATALOG_NAME}.{SILVER_SCHEMA}.dim_tracks created with stable schema.\")"
   ]
  },
  {
   "cell_type": "code",
   "execution_count": 0,
   "metadata": {
    "application/vnd.databricks.v1+cell": {
     "cellMetadata": {
      "byteLimit": 2048000,
      "rowLimit": 10000
     },
     "inputWidgets": {},
     "nuid": "a1e5ec0d-1287-4c4d-897a-1407427277c5",
     "showTitle": true,
     "tableResultSettingsMap": {},
     "title": "dim_artists_table"
    }
   },
   "outputs": [],
   "source": [
    "print(\"Creating silver.dim_artists...\")\n",
    "\n",
    "dim_artists = spark.table(f\"{CATALOG_NAME}.{BRONZE_SCHEMA}.bronze_artists\") \\\n",
    "    .dropDuplicates([\"artist_id\"])\n",
    "\n",
    "dim_artists.write.format(\"delta\").mode(\"overwrite\").option(\"overwriteSchema\", \"true\") \\\n",
    "    .saveAsTable(f\"{CATALOG_NAME}.{SILVER_SCHEMA}.dim_artists\")\n",
    "    \n",
    "print(f\"Table {CATALOG_NAME}.{SILVER_SCHEMA}.dim_artists has been created.\")"
   ]
  },
  {
   "cell_type": "code",
   "execution_count": 0,
   "metadata": {
    "application/vnd.databricks.v1+cell": {
     "cellMetadata": {
      "byteLimit": 2048000,
      "rowLimit": 10000
     },
     "inputWidgets": {},
     "nuid": "a28f89f4-ebe9-480e-8573-ffd022a80934",
     "showTitle": true,
     "tableResultSettingsMap": {},
     "title": "dim_playlists_table"
    }
   },
   "outputs": [],
   "source": [
    "print(\"Creating silver.dim_playlists...\")\n",
    "\n",
    "from pyspark.sql.types import StructType, StructField, StringType, LongType\n",
    "\n",
    "# 🔒 1️⃣ Schema fixă – menținem coloanele esențiale, chiar dacă sunt None\n",
    "silver_dim_playlists_schema = StructType([\n",
    "    StructField(\"playlist_id\", StringType()),\n",
    "    StructField(\"playlist_name\", StringType()),\n",
    "    StructField(\"owner_name\", StringType()),\n",
    "    StructField(\"followers\", LongType()),      # <— menținut pentru Power BI compatibilitate\n",
    "    StructField(\"total_tracks\", LongType()),\n",
    "    StructField(\"description\", StringType()),\n",
    "    StructField(\"snapshot_id\", StringType())\n",
    "])\n",
    "\n",
    "# 2️⃣ Citim datele din Bronze și ne asigurăm că toate coloanele există\n",
    "bronze_playlists_df = spark.table(f\"{CATALOG_NAME}.{BRONZE_SCHEMA}.bronze_playlists\")\n",
    "\n",
    "# Dacă followers lipsește din Bronze, îl adăugăm cu None\n",
    "if \"followers\" not in bronze_playlists_df.columns:\n",
    "    from pyspark.sql.functions import lit\n",
    "    bronze_playlists_df = bronze_playlists_df.withColumn(\"followers\", lit(None).cast(LongType()))\n",
    "\n",
    "# 3️⃣ Eliminăm duplicatele și rearanjăm ordinea coloanelor conform schemei\n",
    "dim_playlists = bronze_playlists_df.dropDuplicates([\"playlist_id\"]) \\\n",
    "                                   .select([f.name for f in silver_dim_playlists_schema])\n",
    "\n",
    "# 4️⃣ Scriere stabilă în Delta\n",
    "dim_playlists.write.format(\"delta\").mode(\"overwrite\").option(\"overwriteSchema\", \"true\") \\\n",
    "    .saveAsTable(f\"{CATALOG_NAME}.{SILVER_SCHEMA}.dim_playlists\")\n",
    "\n",
    "print(f\"✅ Table {CATALOG_NAME}.{SILVER_SCHEMA}.dim_playlists created with stable schema.\")"
   ]
  },
  {
   "cell_type": "code",
   "execution_count": 0,
   "metadata": {
    "application/vnd.databricks.v1+cell": {
     "cellMetadata": {
      "byteLimit": 2048000,
      "rowLimit": 10000
     },
     "inputWidgets": {},
     "nuid": "86a9b12d-7648-43da-bde9-c14c3fba906e",
     "showTitle": true,
     "tableResultSettingsMap": {},
     "title": "fct_plays_table"
    }
   },
   "outputs": [],
   "source": [
    "print(\"Creating silver.fct_plays...\")\n",
    "\n",
    "# Load raw play history\n",
    "fct_plays = spark.table(f\"{CATALOG_NAME}.{BRONZE_SCHEMA}.bronze_play_history\") \\\n",
    "    .withColumn(\"play_timestamp\", to_timestamp(col(\"played_at\"))) \\\n",
    "    .withColumn(\"play_id\", expr(\"sha2(concat(played_at, track_id), 256)\")) \\\n",
    "    .select(\n",
    "        \"play_id\",\n",
    "        \"play_timestamp\",\n",
    "        \"track_id\",\n",
    "        \"artist_id\",\n",
    "        \"album_id\",\n",
    "        \"duration_ms\",\n",
    "        \"context_type\"\n",
    "    ) \\\n",
    "    .dropDuplicates([\"play_id\"]) # Deduplication based on unique key\n",
    "\n",
    "fct_plays.write.format(\"delta\").mode(\"overwrite\").option(\"overwriteSchema\", \"true\") \\\n",
    "    .saveAsTable(f\"{CATALOG_NAME}.{SILVER_SCHEMA}.fct_plays\")\n",
    "\n",
    "print(f\"Table {CATALOG_NAME}.{SILVER_SCHEMA}.fct_plays has been created.\")\n",
    "print(\"\\n--- SILVER PIPELINE FINISHED ---\")"
   ]
  }
 ],
 "metadata": {
  "application/vnd.databricks.v1+notebook": {
   "computePreferences": null,
   "dashboards": [],
   "environmentMetadata": {
    "base_environment": "",
    "environment_version": "4"
   },
   "inputWidgetPreferences": null,
   "language": "python",
   "notebookMetadata": {
    "pythonIndentUnit": 4
   },
   "notebookName": "02_silver_transformation",
   "widgets": {}
  },
  "language_info": {
   "name": "python"
  }
 },
 "nbformat": 4,
 "nbformat_minor": 0
}
