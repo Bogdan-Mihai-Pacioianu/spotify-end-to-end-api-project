{
 "cells": [
  {
   "cell_type": "code",
   "execution_count": 0,
   "metadata": {
    "application/vnd.databricks.v1+cell": {
     "cellMetadata": {
      "byteLimit": 2048000,
      "rowLimit": 10000
     },
     "inputWidgets": {},
     "nuid": "a8309250-a6a6-4c90-9926-30fbf5085a7c",
     "showTitle": false,
     "tableResultSettingsMap": {},
     "title": ""
    }
   },
   "outputs": [],
   "source": [
    "import requests\n",
    "import base64\n",
    "import time\n",
    "from urllib.parse import urlparse, parse_qs, urlencode"
   ]
  },
  {
   "cell_type": "code",
   "execution_count": 0,
   "metadata": {
    "application/vnd.databricks.v1+cell": {
     "cellMetadata": {
      "byteLimit": 2048000,
      "rowLimit": 10000
     },
     "inputWidgets": {},
     "nuid": "f683ca53-036c-438c-b498-c5d70d222a46",
     "showTitle": true,
     "tableResultSettingsMap": {},
     "title": "Pasul 1"
    }
   },
   "outputs": [],
   "source": [
    "CLIENT_ID = \"9c22135f704248acb4c79520646559c3\"\n",
    "CLIENT_SECRET = \"7d81b48def1e427580328769dd1349df\"\n",
    "REDIRECT_URI = \"http://127.0.0.1:5000/callback\"\n",
    "\n",
    "# Definește permisiunile de care are nevoie pipeline-ul tău\n",
    "SCOPES = (\n",
    "    \"user-read-recently-played \"\n",
    "    \"playlist-read-private \"\n",
    "    \"user-library-read\"\n",
    ")\n",
    "\n",
    "AUTH_URL = \"https://accounts.spotify.com/authorize\"\n",
    "\n",
    "# Creează widget-ul unde vei lipi URL-ul\n",
    "dbutils.widgets.text(\"1_PASTE_URL_HERE\", \"\", \"1. Lipește URL-ul de la localhost aici\")\n",
    "\n",
    "def generate_auth_url(client_id, redirect_uri, scopes, auth_url):\n",
    "    auth_params = {\n",
    "        \"client_id\": client_id,\n",
    "        \"response_type\": \"code\",\n",
    "        \"redirect_uri\": redirect_uri,\n",
    "        \"scope\": scopes,\n",
    "    }\n",
    "    return f\"{auth_url}?{urlencode(auth_params)}\"\n",
    "\n",
    "def print_instructions(auth_url):\n",
    "    print(\"--- PASUL 1: AUTORIZAREA ---\")\n",
    "    print(\"Copiază link-ul de mai jos și deschide-l în browser-ul tău local:\")\n",
    "    print(\"\\n\")\n",
    "    print(auth_url)\n",
    "    print(\"\\n--- PASUL 2: AȘTEPTARE ---\")\n",
    "    print(\"Autentifică-te, acceptă permisiunile, și vei fi redirecționat către 'localhost' (care va da o eroare).\")\n",
    "    print(\"Copiază URL-ul complet din bara de adrese a browserului și lipește-l în caseta '1_PASTE_URL_HERE' de mai sus.\")\n",
    "\n",
    "auth_redirect_url = generate_auth_url(CLIENT_ID, REDIRECT_URI, SCOPES, AUTH_URL)\n",
    "print_instructions(auth_redirect_url)"
   ]
  },
  {
   "cell_type": "code",
   "execution_count": 0,
   "metadata": {
    "application/vnd.databricks.v1+cell": {
     "cellMetadata": {
      "byteLimit": 2048000,
      "rowLimit": 10000
     },
     "inputWidgets": {},
     "nuid": "fd3e7aa1-f9b0-42f9-9c1d-b2d8601489c8",
     "showTitle": true,
     "tableResultSettingsMap": {},
     "title": "Pasul 2"
    }
   },
   "outputs": [],
   "source": [
    "TOKEN_URL = \"https://accounts.spotify.com/api/token\"\n",
    "\n",
    "# --- 1. Preluarea URL-ului din widget ---\n",
    "redirected_url = dbutils.widgets.get(\"1_PASTE_URL_HERE\")\n",
    "\n",
    "def get_auth_code(redirected_url):\n",
    "    parsed_url = urlparse(redirected_url)\n",
    "    return parse_qs(parsed_url.query).get('code', [None])[0]\n",
    "\n",
    "def request_refresh_token(auth_code):\n",
    "    auth_str = f\"{CLIENT_ID}:{CLIENT_SECRET}\"\n",
    "    auth_b64 = base64.b64encode(auth_str.encode()).decode()\n",
    "    headers = {\"Authorization\": f\"Basic {auth_b64}\"}\n",
    "    data = {\n",
    "        \"grant_type\": \"authorization_code\",\n",
    "        \"code\": auth_code,\n",
    "        \"redirect_uri\": REDIRECT_URI\n",
    "    }\n",
    "    response = requests.post(TOKEN_URL, data=data, headers=headers)\n",
    "    response.raise_for_status()\n",
    "    return response.json()\n",
    "\n",
    "def print_success(refresh_token):\n",
    "    print(\"\\n\" + \"=\"*50)\n",
    "    print(\"--- ✅ SUCCES! REFRESH TOKEN OBȚINUT ---\")\n",
    "    print(\"Acesta este noul tău Refresh Token. Copiază-l.\")\n",
    "    print(\"\\n\")\n",
    "    print(refresh_token)\n",
    "    print(\"\\n\" + \"=\"*50)\n",
    "    print(\"\\n--- ACUM ---\")\n",
    "    print(\"1. Salvează acest token în Databricks Secrets:\")\n",
    "    print(f\"  databricks secrets put-secret spotify_secrets refresh-token --string-value=\\\"{refresh_token}\\\"\")\n",
    "    print(\"2. Șterge acest notebook temporar ('TEMP_Get_Token').\")\n",
    "\n",
    "if not redirected_url:\n",
    "    print(\"EROARE: Nu ai lipit URL-ul în caseta '1_PASTE_URL_HERE' de mai sus.\")\n",
    "    print(\"Rulează din nou Celula 2, fă pașii din browser și lipește URL-ul, apoi rulează această celulă.\")\n",
    "else:\n",
    "    try:\n",
    "        # --- 2. Extragerea codului de autorizare ---\n",
    "        auth_code = get_auth_code(redirected_url)\n",
    "        if not auth_code:\n",
    "            raise ValueError(\"Codul de autorizare nu a fost găsit în URL.\")\n",
    "        print(\"Cod de autorizare obținut cu succes!\")\n",
    "\n",
    "        # --- 3. Schimbarea codului pentru un REFRESH TOKEN ---\n",
    "        print(\"Se solicită Refresh Token-ul...\")\n",
    "        token_info = request_refresh_token(auth_code)\n",
    "\n",
    "        if \"refresh_token\" in token_info:\n",
    "            print_success(token_info['refresh_token'])\n",
    "        else:\n",
    "            print(\"EROARE: Răspunsul de la Spotify NU a inclus un 'refresh_token'.\")\n",
    "            print(token_info)\n",
    "\n",
    "    except Exception as e:\n",
    "        print(f\"\\nEROARE: {e}\")\n",
    "        print(\"Verifică dacă ai copiat URL-ul *complet* sau dacă CLIENT_ID/CLIENT_SECRET sunt corecte.\")"
   ]
  }
 ],
 "metadata": {
  "application/vnd.databricks.v1+notebook": {
   "computePreferences": null,
   "dashboards": [],
   "environmentMetadata": {
    "base_environment": "",
    "environment_version": "4"
   },
   "inputWidgetPreferences": null,
   "language": "python",
   "notebookMetadata": {
    "pythonIndentUnit": 4
   },
   "notebookName": "get_token",
   "widgets": {
    "1_PASTE_URL_HERE": {
     "currentValue": "http://127.0.0.1:5000/callback?code=AQCi_Z-vIMNnOsGYt-1vtCWIILNECSTuKmeRXav1l2dF1nhnifDBJMGXpmx1mcYI9iFvcqJxGrj42bTg1STqyf30RyPISmbQ3ZO2FAmllDBzcrsWq0_2sEmkpAlw4lSD9bWZR_hr5ZnbqG9RwS7vjdf-gHignIQiBzoJX3g6qDg9v4FNuxgZlT0a7auH1qnLI006tIEhONto93178chaubaSBexYyksfjV-M56R-l1wldbTuyS7cK93yF4yVv1KOUzsvN2sbHA",
     "nuid": "0be5e041-0872-49ac-81e0-b41fae57fec3",
     "typedWidgetInfo": {
      "autoCreated": false,
      "defaultValue": "",
      "label": "1. Lipește URL-ul de la localhost aici",
      "name": "1_PASTE_URL_HERE",
      "options": {
       "widgetDisplayType": "Text",
       "validationRegex": null
      },
      "parameterDataType": "String"
     },
     "widgetInfo": {
      "widgetType": "text",
      "defaultValue": "",
      "label": "1. Lipește URL-ul de la localhost aici",
      "name": "1_PASTE_URL_HERE",
      "options": {
       "widgetType": "text",
       "autoCreated": null,
       "validationRegex": null
      }
     }
    }
   }
  },
  "language_info": {
   "name": "python"
  }
 },
 "nbformat": 4,
 "nbformat_minor": 0
}
