{
 "cells": [
  {
   "cell_type": "code",
   "execution_count": 0,
   "metadata": {
    "application/vnd.databricks.v1+cell": {
     "cellMetadata": {
      "byteLimit": 2048000,
      "rowLimit": 10000
     },
     "inputWidgets": {},
     "nuid": "a8309250-a6a6-4c90-9926-30fbf5085a7c",
     "showTitle": false,
     "tableResultSettingsMap": {},
     "title": ""
    }
   },
   "outputs": [],
   "source": [
    "import requests\n",
    "import base64\n",
    "import time\n",
    "from urllib.parse import urlparse, parse_qs, urlencode"
   ]
  },
  {
   "cell_type": "code",
   "execution_count": 0,
   "metadata": {
    "application/vnd.databricks.v1+cell": {
     "cellMetadata": {
      "byteLimit": 2048000,
      "rowLimit": 10000
     },
     "inputWidgets": {},
     "nuid": "f683ca53-036c-438c-b498-c5d70d222a46",
     "showTitle": true,
     "tableResultSettingsMap": {},
     "title": "Pasul 1"
    }
   },
   "outputs": [],
   "source": [
    "CLIENT_ID = \"9c22135f704248acb4c79520646559c3\"\n",
    "CLIENT_SECRET = \"7d81b48def1e427580328769dd1349df\"\n",
    "REDIRECT_URI = \"http://127.0.0.1:5000/callback\"\n",
    "\n",
    "# Define the permissions your pipeline needs\n",
    "SCOPES = (\n",
    "    \"user-read-recently-played \"\n",
    "    \"playlist-read-private \"\n",
    "    \"user-library-read\"\n",
    ")\n",
    "\n",
    "AUTH_URL = \"https://accounts.spotify.com/authorize\"\n",
    "\n",
    "# Create the widget where you will paste the URL\n",
    "dbutils.widgets.text(\"1_PASTE_URL_HERE\", \"\", \"1. Paste the URL from localhost here\")\n",
    "\n",
    "def generate_auth_url(client_id, redirect_uri, scopes, auth_url):\n",
    "    auth_params = {\n",
    "        \"client_id\": client_id,\n",
    "        \"response_type\": \"code\",\n",
    "        \"redirect_uri\": redirect_uri,\n",
    "        \"scope\": scopes,\n",
    "    }\n",
    "    return f\"{auth_url}?{urlencode(auth_params)}\"\n",
    "\n",
    "def print_instructions(auth_url):\n",
    "    print(\"--- STEP 1: AUTHORIZATION ---\")\n",
    "    print(\"Copy the link below and open it in your local browser:\")\n",
    "    print(\"\\n\")\n",
    "    print(auth_url)\n",
    "    print(\"\\n--- STEP 2: WAIT ---\")\n",
    "    print(\"Log in, accept the permissions, and you will be redirected to 'localhost' (which will show an error).\")\n",
    "    print(\"Copy the full URL from your browser's address bar and paste it into the '1_PASTE_URL_HERE' box above.\")\n",
    "\n",
    "auth_redirect_url = generate_auth_url(CLIENT_ID, REDIRECT_URI, SCOPES, AUTH_URL)\n",
    "print_instructions(auth_redirect_url)"
   ]
  },
  {
   "cell_type": "code",
   "execution_count": 0,
   "metadata": {
    "application/vnd.databricks.v1+cell": {
     "cellMetadata": {
      "byteLimit": 2048000,
      "rowLimit": 10000
     },
     "inputWidgets": {},
     "nuid": "fd3e7aa1-f9b0-42f9-9c1d-b2d8601489c8",
     "showTitle": true,
     "tableResultSettingsMap": {},
     "title": "Pasul 2"
    }
   },
   "outputs": [],
   "source": [
    "TOKEN_URL = \"https://accounts.spotify.com/api/token\"\n",
    "\n",
    "# --- 1. Retrieve the URL from the widget ---\n",
    "redirected_url = dbutils.widgets.get(\"1_PASTE_URL_HERE\")\n",
    "\n",
    "def get_auth_code(redirected_url):\n",
    "    parsed_url = urlparse(redirected_url)\n",
    "    return parse_qs(parsed_url.query).get('code', [None])[0]\n",
    "\n",
    "def request_refresh_token(auth_code):\n",
    "    auth_str = f\"{CLIENT_ID}:{CLIENT_SECRET}\"\n",
    "    auth_b64 = base64.b64encode(auth_str.encode()).decode()\n",
    "    headers = {\"Authorization\": f\"Basic {auth_b64}\"}\n",
    "    data = {\n",
    "        \"grant_type\": \"authorization_code\",\n",
    "        \"code\": auth_code,\n",
    "        \"redirect_uri\": REDIRECT_URI\n",
    "    }\n",
    "    response = requests.post(TOKEN_URL, data=data, headers=headers)\n",
    "    response.raise_for_status()\n",
    "    return response.json()\n",
    "\n",
    "def print_success(refresh_token):\n",
    "    print(\"\\n\" + \"=\"*50)\n",
    "    print(\"--- ✅ SUCCESS! REFRESH TOKEN OBTAINED ---\")\n",
    "    print(\"This is your new Refresh Token. Copy it.\")\n",
    "    print(\"\\n\")\n",
    "    print(refresh_token)\n",
    "    print(\"\\n\" + \"=\"*50)\n",
    "    print(\"\\n--- NOW ---\")\n",
    "    print(\"1. Save this token in Databricks Secrets:\")\n",
    "    print(f\"  databricks secrets put-secret spotify_secrets refresh-token --string-value=\\\"{refresh_token}\\\"\")\n",
    "    print(\"2. Delete this temporary notebook ('TEMP_Get_Token').\")\n",
    "\n",
    "if not redirected_url:\n",
    "    print(\"ERROR: You did not paste the URL in the '1_PASTE_URL_HERE' box above.\")\n",
    "    print(\"Run Cell 2 again, follow the steps in your browser, paste the URL, then run this cell.\")\n",
    "else:\n",
    "    try:\n",
    "        # --- 2. Extract the authorization code ---\n",
    "        auth_code = get_auth_code(redirected_url)\n",
    "        if not auth_code:\n",
    "            raise ValueError(\"Authorization code was not found in the URL.\")\n",
    "        print(\"Authorization code obtained successfully!\")\n",
    "\n",
    "        # --- 3. Exchange the code for a REFRESH TOKEN ---\n",
    "        print(\"Requesting Refresh Token...\")\n",
    "        token_info = request_refresh_token(auth_code)\n",
    "\n",
    "        if \"refresh_token\" in token_info:\n",
    "            print_success(token_info['refresh_token'])\n",
    "        else:\n",
    "            print(\"ERROR: The response from Spotify did NOT include a 'refresh_token'.\")\n",
    "            print(token_info)\n",
    "\n",
    "    except Exception as e:\n",
    "        print(f\"\\nERROR: {e}\")\n",
    "        print(\"Check if you copied the *entire* URL or if CLIENT_ID/CLIENT_SECRET are correct.\")"
   ]
  }
 ],
 "metadata": {
  "application/vnd.databricks.v1+notebook": {
   "computePreferences": null,
   "dashboards": [],
   "environmentMetadata": {
    "base_environment": "",
    "environment_version": "4"
   },
   "inputWidgetPreferences": null,
   "language": "python",
   "notebookMetadata": {
    "pythonIndentUnit": 4
   },
   "notebookName": "get_token",
   "widgets": {
    "1_PASTE_URL_HERE": {
     "currentValue": "http://127.0.0.1:5000/callback?code=AQCi_Z-vIMNnOsGYt-1vtCWIILNECSTuKmeRXav1l2dF1nhnifDBJMGXpmx1mcYI9iFvcqJxGrj42bTg1STqyf30RyPISmbQ3ZO2FAmllDBzcrsWq0_2sEmkpAlw4lSD9bWZR_hr5ZnbqG9RwS7vjdf-gHignIQiBzoJX3g6qDg9v4FNuxgZlT0a7auH1qnLI006tIEhONto93178chaubaSBexYyksfjV-M56R-l1wldbTuyS7cK93yF4yVv1KOUzsvN2sbHA",
     "nuid": "0be5e041-0872-49ac-81e0-b41fae57fec3",
     "typedWidgetInfo": {
      "autoCreated": false,
      "defaultValue": "",
      "label": "1. Lipește URL-ul de la localhost aici",
      "name": "1_PASTE_URL_HERE",
      "options": {
       "widgetDisplayType": "Text",
       "validationRegex": null
      },
      "parameterDataType": "String"
     },
     "widgetInfo": {
      "widgetType": "text",
      "defaultValue": "",
      "label": "1. Lipește URL-ul de la localhost aici",
      "name": "1_PASTE_URL_HERE",
      "options": {
       "widgetType": "text",
       "autoCreated": null,
       "validationRegex": null
      }
     }
    }
   }
  },
  "language_info": {
   "name": "python"
  }
 },
 "nbformat": 4,
 "nbformat_minor": 0
}
