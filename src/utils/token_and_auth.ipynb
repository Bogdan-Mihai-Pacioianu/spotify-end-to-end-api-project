{
 "cells": [
  {
   "cell_type": "code",
   "execution_count": 0,
   "metadata": {
    "application/vnd.databricks.v1+cell": {
     "cellMetadata": {
      "byteLimit": 2048000,
      "rowLimit": 10000
     },
     "inputWidgets": {},
     "nuid": "2e9395dc-5bfb-40ca-a37b-62a6885e63a0",
     "showTitle": false,
     "tableResultSettingsMap": {},
     "title": ""
    }
   },
   "outputs": [],
   "source": [
    "def get_access_token():\n",
    "        client_id = dbutils.secrets.get(scope=\"spotify_secrets\",key=\"user\")\n",
    "        client_secret = dbutils.secrets.get(scope=\"spotify_secrets\",key=\"client_secret\")    \n",
    "\n",
    "        # 1. Codificare Base64 pentru Client ID și Client Secret\n",
    "        auth_string = f\"{client_id}:{client_secret}\"\n",
    "        auth_bytes = auth_string.encode(\"utf-8\")\n",
    "        auth_base64 = str(base64.b64encode(auth_bytes), \"utf-8\")\n",
    "        auth_url = 'https://accounts.spotify.com/api/token'\n",
    "\n",
    "        headers = {\n",
    "            \"Authorization\": f\"Basic {auth_base64}\",\n",
    "            \"Content-Type\": \"application/x-www-form-urlencoded\"\n",
    "        }\n",
    "\n",
    "        data = {\"grant_type\": \"client_credentials\"}\n",
    "        # 2. API request\n",
    "        response = requests.post(auth_url, headers=headers, data=data)\n",
    "        \n",
    "        if response.status_code == 200:\n",
    "            return response.json()['access_token']\n",
    "        else:\n",
    "            raise Exception(\"Nu s-a putut reîmprospăta token-ul.\")\n",
    "    \n",
    "\n",
    "def get_authorization_header(self,token):\n",
    "    return {\"Authorization\": f\"Basic {token}\"}"
   ]
  }
 ],
 "metadata": {
  "application/vnd.databricks.v1+notebook": {
   "computePreferences": null,
   "dashboards": [],
   "environmentMetadata": {
    "base_environment": "",
    "environment_version": "4"
   },
   "inputWidgetPreferences": null,
   "language": "python",
   "notebookMetadata": {
    "pythonIndentUnit": 4
   },
   "notebookName": "token_and_auth",
   "widgets": {}
  },
  "language_info": {
   "name": "python"
  }
 },
 "nbformat": 4,
 "nbformat_minor": 0
}
