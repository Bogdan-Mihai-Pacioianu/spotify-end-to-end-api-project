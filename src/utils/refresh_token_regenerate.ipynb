{
 "cells": [
  {
   "cell_type": "code",
   "execution_count": 0,
   "metadata": {
    "application/vnd.databricks.v1+cell": {
     "cellMetadata": {
      "byteLimit": 2048000,
      "rowLimit": 10000
     },
     "inputWidgets": {},
     "nuid": "0489a4e1-8568-4166-bf42-c9ed4d74ad8c",
     "showTitle": true,
     "tableResultSettingsMap": {},
     "title": "Imports"
    }
   },
   "outputs": [],
   "source": [
    "from src.utils.auth_and_token_utils import build_authorize_url,exchange_code_for_tokens,refresh_access_token, get_valid_token \n",
    "import datetime, time ,base64, urllib.parse, webbrowser, requests, json, time"
   ]
  },
  {
   "cell_type": "code",
   "execution_count": 0,
   "metadata": {
    "application/vnd.databricks.v1+cell": {
     "cellMetadata": {
      "byteLimit": 2048000,
      "rowLimit": 10000
     },
     "inputWidgets": {},
     "nuid": "d0f219fd-db0a-44a2-bbd8-37883540fe7c",
     "showTitle": true,
     "tableResultSettingsMap": {},
     "title": "Run to regenerate Refresh Token"
    }
   },
   "outputs": [],
   "source": [
    "TOKENS_PATH=\"/Workspace/Users/pacioianu4@gmail.com/spotify-end-to-end-api-project/src/config/spotify_tokens.json\"\n",
    "\n",
    "# 1) Construiește și deschide linkul de autorizare\n",
    "url = build_authorize_url()\n",
    "print(\"Authorize URL:\\n\", url)\n",
    "try:\n",
    "    webbrowser.open(url)\n",
    "except Exception:\n",
    "    pass\n",
    "\n",
    "# 2) După login + Accept, copiați din browser **întregul** URL de redirect (are ?code=...)\n",
    "redirect_full = input(\"\\nLipește aici URL-ul de redirect (cu ?code=...):\\n> \").strip()\n",
    "\n",
    "# Extrage `code` chiar dacă pagina a dat connection refused\n",
    "qs = urllib.parse.parse_qs(urllib.parse.urlparse(redirect_full).query)\n",
    "code = (qs.get(\"code\") or [None])[0]\n",
    "if not code:\n",
    "    raise RuntimeError(\"Nu am găsit parametrul 'code' în URL-ul lipit.\")\n",
    "\n",
    "# 3) Schimbă code -> tokens și salvează-le\n",
    "tokens = exchange_code_for_tokens(code)\n",
    "with open(TOKENS_PATH, \"w\", encoding=\"utf-8\") as f:\n",
    "    json.dump(tokens, f, indent=2)\n",
    "print(\"\\n✅ Tokens salvați în\", TOKENS_PATH)\n",
    "print(\"refresh_token =\", tokens.get(\"refresh_token\"))\n",
    "\n",
    "refresh_token = tokens.get(\"refresh_token\")\n"
   ]
  },
  {
   "cell_type": "code",
   "execution_count": 0,
   "metadata": {
    "application/vnd.databricks.v1+cell": {
     "cellMetadata": {
      "byteLimit": 2048000,
      "rowLimit": 10000
     },
     "inputWidgets": {},
     "nuid": "8c7237ff-bc9d-4a04-b963-c4e0a3439fb6",
     "showTitle": true,
     "tableResultSettingsMap": {},
     "title": "Run refresh token"
    }
   },
   "outputs": [],
   "source": [
    "refresh_accesstoken = refresh_access_token(refresh_token)\n"
   ]
  },
  {
   "cell_type": "code",
   "execution_count": 0,
   "metadata": {
    "application/vnd.databricks.v1+cell": {
     "cellMetadata": {
      "byteLimit": 2048000,
      "rowLimit": 10000
     },
     "inputWidgets": {},
     "nuid": "be705eda-b5a2-49c4-a8d8-f1fd0fd96991",
     "showTitle": false,
     "tableResultSettingsMap": {},
     "title": ""
    }
   },
   "outputs": [],
   "source": [
    "print(\"Tokenul curent si valid este...\\n\")\n",
    "print(refresh_accesstoken[\"refresh_token\"])"
   ]
  }
 ],
 "metadata": {
  "application/vnd.databricks.v1+notebook": {
   "computePreferences": null,
   "dashboards": [],
   "environmentMetadata": {
    "base_environment": "",
    "environment_version": "4"
   },
   "inputWidgetPreferences": null,
   "language": "python",
   "notebookMetadata": {
    "pythonIndentUnit": 4
   },
   "notebookName": "refresh_token_regenerate",
   "widgets": {}
  },
  "language_info": {
   "name": "python"
  }
 },
 "nbformat": 4,
 "nbformat_minor": 0
}
