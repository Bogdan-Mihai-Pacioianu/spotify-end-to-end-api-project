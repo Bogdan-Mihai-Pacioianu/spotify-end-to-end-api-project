{
 "cells": [
  {
   "cell_type": "code",
   "execution_count": 0,
   "metadata": {
    "application/vnd.databricks.v1+cell": {
     "cellMetadata": {
      "byteLimit": 2048000,
      "rowLimit": 10000
     },
     "inputWidgets": {},
     "nuid": "4bcede55-be62-4d48-a395-13979f2d0d8c",
     "showTitle": false,
     "tableResultSettingsMap": {},
     "title": ""
    }
   },
   "outputs": [],
   "source": [
    "import requests\n",
    "import json\n",
    "from src.utils.token_and_auth import Auth\n",
    "from datetime import datetime"
   ]
  },
  {
   "cell_type": "code",
   "execution_count": 0,
   "metadata": {
    "application/vnd.databricks.v1+cell": {
     "cellMetadata": {
      "byteLimit": 2048000,
      "rowLimit": 10000
     },
     "inputWidgets": {},
     "nuid": "a865ae81-71cb-43bd-a08e-78713c242d63",
     "showTitle": false,
     "tableResultSettingsMap": {},
     "title": ""
    }
   },
   "outputs": [],
   "source": [
    "import urllib.parse\n",
    "\n",
    "client_id = client_id = dbutils.secrets.get(scope=\"spotify_secrets\", key=\"user\")\n",
    "redirect_uri = \"http://127.0.0.1:5000/callback\"\n",
    "scopes = \"user-read-recently-played user-read-playback-state user-read-currently-playing\"\n",
    "\n",
    "auth_url = \"https://accounts.spotify.com/authorize?\" + urllib.parse.urlencode({\n",
    "    \"client_id\": client_id,\n",
    "    \"response_type\": \"AQA8C_zZC487pFxtP9uVTouMFdJF6VzHBxnJw_1cihP7FkmaVs_39YhHhhwD7ldiAFW7Gh4s0x1RHPtT4CNcqrcbnke_o7ON_lKrpJdgzfeupa-DD4c1ZiOTamg276w0oTS0uVW2-U2XIX-mE_olesUvalEXuCqzryW-kguD0_9PjLfehNz2xgqyoWPQG7n7hwP3rLbnlciqs2B5SEH1VA2CGw8KcGKB63X0RHEj7gOpy4S_YOLtWZQHKDtFcJ8QOzOER0FHDzKnmEGG1l5uPBkB9jY\",\n",
    "    \"redirect_uri\": redirect_uri,\n",
    "    \"scope\": scopes\n",
    "})\n",
    "\n",
    "print(auth_url)"
   ]
  },
  {
   "cell_type": "code",
   "execution_count": 0,
   "metadata": {
    "application/vnd.databricks.v1+cell": {
     "cellMetadata": {
      "byteLimit": 2048000,
      "rowLimit": 10000
     },
     "inputWidgets": {},
     "nuid": "146eb4bb-8ebf-4402-bfca-1c922f5e589a",
     "showTitle": false,
     "tableResultSettingsMap": {},
     "title": ""
    }
   },
   "outputs": [],
   "source": [
    "import requests\n",
    "import base64\n",
    "\n",
    "code = \"AQA8C_zZC487pFxtP9uVTouMFdJF6VzHBxnJw_1cihP7FkmaVs_39YhHhhwD7ldiAFW7Gh4s0x1RHPtT4CNcqrcbnke_o7ON_lKrpJdgzfeupa-DD4c1ZiOTamg276w0oTS0uVW2-U2XIX-mE_olesUvalEXuCqzryW-kguD0_9PjLfehNz2xgqyoWPQG7n7hwP3rLbnlciqs2B5SEH1VA2CGw8KcGKB63X0RHEj7gOpy4S_YOLtWZQHKDtFcJ8QOzOER0FHDzKnmEGG1l5uPBkB9jY\"  # din URL-ul redirectat\n",
    "client_id = client_id = dbutils.secrets.get(scope=\"spotify_secrets\", key=\"user\")\n",
    "client_secret = \"7d81b48def1e427580328769dd1349df\"\n",
    "redirect_uri = \"http://127.0.0.1:5000/callback\"\n",
    "\n",
    "auth_str = f\"{client_id}:{client_secret}\"\n",
    "b64_auth_str = base64.b64encode(auth_str.encode()).decode()\n",
    "\n",
    "token_url = \"https://accounts.spotify.com/api/token\"\n",
    "response = requests.post(token_url, data={\n",
    "    \"grant_type\": \"authorization_code\",\n",
    "    \"code\": code,\n",
    "    \"redirect_uri\": redirect_uri\n",
    "}, headers={\n",
    "    \"Authorization\": f\"Basic {b64_auth_str}\"\n",
    "})\n",
    "\n",
    "token_info = response.json()\n",
    "print(token_info)"
   ]
  },
  {
   "cell_type": "code",
   "execution_count": 0,
   "metadata": {
    "application/vnd.databricks.v1+cell": {
     "cellMetadata": {
      "byteLimit": 2048000,
      "rowLimit": 10000
     },
     "inputWidgets": {},
     "nuid": "6828c769-bfd9-4260-99a4-2b6c10da9725",
     "showTitle": true,
     "tableResultSettingsMap": {},
     "title": "Widgets & Variables"
    }
   },
   "outputs": [],
   "source": [
    "auth = Auth()\n",
    "token = auth.get_access_token()\n",
    "# headers = auth.get_authorization_header(token)\n",
    "headers = {\"Authorization\": f\"Bearer {token}\",\n",
    "           \"Content-Type\": \"application/json\"\n",
    "           }\n",
    "data={\n",
    "    \"grant_type\": \"authorization_code\",\n",
    "    \"code\": \"code\",\n",
    "    \"redirect_uri\": redirect_uri}\n",
    "\n",
    "datetime = datetime.now().strftime('%Y-%m-%d %H:%M:%S')\n",
    "limit=20\n",
    "query = f\"?limit={limit}\"\n",
    "url =\"https://api.spotify.com/v1/me/player/recently-played\"\n"
   ]
  },
  {
   "cell_type": "code",
   "execution_count": 0,
   "metadata": {
    "application/vnd.databricks.v1+cell": {
     "cellMetadata": {
      "byteLimit": 2048000,
      "rowLimit": 10000
     },
     "inputWidgets": {},
     "nuid": "a3ee9e61-0612-4175-9f44-d4d395b4bde5",
     "showTitle": false,
     "tableResultSettingsMap": {},
     "title": ""
    }
   },
   "outputs": [],
   "source": [
    "print(f\"A inceput ingestia tabelului de recently_played la ora {datetime}\")\n",
    "\n",
    "\n",
    "\n",
    "response = requests.get(url, headers=headers)\n",
    "\n",
    "# response.raise_for_status()\n",
    "\n",
    "data = response.json()\n",
    "display(data)"
   ]
  }
 ],
 "metadata": {
  "application/vnd.databricks.v1+notebook": {
   "computePreferences": null,
   "dashboards": [],
   "environmentMetadata": {
    "base_environment": "",
    "environment_version": "4"
   },
   "inputWidgetPreferences": null,
   "language": "python",
   "notebookMetadata": {
    "pythonIndentUnit": 4
   },
   "notebookName": "ingest_api_recently_played",
   "widgets": {}
  },
  "language_info": {
   "name": "python"
  }
 },
 "nbformat": 4,
 "nbformat_minor": 0
}
