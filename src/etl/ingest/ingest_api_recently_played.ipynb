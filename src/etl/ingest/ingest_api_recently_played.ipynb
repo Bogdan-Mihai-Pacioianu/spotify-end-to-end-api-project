{
 "cells": [
  {
   "cell_type": "code",
   "execution_count": 0,
   "metadata": {
    "application/vnd.databricks.v1+cell": {
     "cellMetadata": {
      "byteLimit": 2048000,
      "rowLimit": 10000
     },
     "inputWidgets": {},
     "nuid": "4bcede55-be62-4d48-a395-13979f2d0d8c",
     "showTitle": true,
     "tableResultSettingsMap": {},
     "title": "Imports"
    }
   },
   "outputs": [],
   "source": [
    "from requests import post, get\n",
    "import datetime, time ,base64, urllib.parse, webbrowser, requests, json, time\n",
    "from src.utils.token_and_auth import Auth\n",
    "from src.utils.auth_and_token_utils import  get_valid_token "
   ]
  },
  {
   "cell_type": "code",
   "execution_count": 0,
   "metadata": {
    "application/vnd.databricks.v1+cell": {
     "cellMetadata": {
      "byteLimit": 2048000,
      "rowLimit": 10000
     },
     "inputWidgets": {},
     "nuid": "b047b9ac-9b1f-4cd9-896e-eaf921c6254e",
     "showTitle": true,
     "tableResultSettingsMap": {},
     "title": "Variables"
    }
   },
   "outputs": [],
   "source": [
    "auth = Auth()\n",
    "\n",
    "# token = get_valid_token()\n",
    "# print(\"Token-ul este ...\")\n",
    "# token = auth.get_access_token()\n",
    "print(token)\n",
    "headers = auth.get_auth_header(token)\n",
    "\n",
    "print(\"Request mount : \")\n",
    "\n",
    "current_time = datetime.datetime.now()\n",
    "after_ms = int(datetime.datetime(2025, 10, 1, 0, 0).timestamp() * 1000)\n",
    "print(after_ms)\n",
    "\n",
    "params = {\"limit\": 50}  # optional: after, before\n",
    "url =\"https://api.spotify.com/v1/me/player/recently-played\"\n"
   ]
  },
  {
   "cell_type": "code",
   "execution_count": 0,
   "metadata": {
    "application/vnd.databricks.v1+cell": {
     "cellMetadata": {
      "byteLimit": 2048000,
      "rowLimit": 10000
     },
     "inputWidgets": {},
     "nuid": "a3ee9e61-0612-4175-9f44-d4d395b4bde5",
     "showTitle": false,
     "tableResultSettingsMap": {},
     "title": ""
    }
   },
   "outputs": [],
   "source": [
    "print(f\"A inceput ingestia tabelului de recently_played la ora {current_time}\")\n",
    "\n",
    "requests = get(url=url, headers=headers, params=params)\n",
    "\n",
    "print(requests.json())\n"
   ]
  },
  {
   "cell_type": "code",
   "execution_count": 0,
   "metadata": {
    "application/vnd.databricks.v1+cell": {
     "cellMetadata": {
      "byteLimit": 2048000,
      "rowLimit": 10000
     },
     "inputWidgets": {},
     "nuid": "f65e08c4-c450-4406-8dce-e71f2b3d4e5d",
     "showTitle": false,
     "tableResultSettingsMap": {},
     "title": ""
    }
   },
   "outputs": [],
   "source": [
    "# http://127.0.0.1:5000/callback?code=AQC2VY0E7cxxCSSWZ11eWiAxtyG2PEzBwQEPW347g72diOOKTbsdSCyQBysvX6lrY89sgSAi1Mt1gZ5F5DDCrODoF2M3OZW4LVxHq-BGrVUz8OvDYyvWDpcY46ryMLyQzPLxvjimPCTjpQNljuuBun4rjcyrCYlUwjaUvjSGkT702jR3YdBN3rQQkGPQ8dcK75ySAP38Ht1nkPEz40k-ndrFPAVICY5sBz6ptAcfw5w6NKn8LYvd5tEqOejqINuQLKgnVER-mP-BjIiTGxNu-1LBPr0"
   ]
  }
 ],
 "metadata": {
  "application/vnd.databricks.v1+notebook": {
   "computePreferences": null,
   "dashboards": [],
   "environmentMetadata": {
    "base_environment": "",
    "environment_version": "4"
   },
   "inputWidgetPreferences": null,
   "language": "python",
   "notebookMetadata": {
    "mostRecentlyExecutedCommandWithImplicitDF": {
     "commandId": 7860551670708040,
     "dataframes": [
      "_sqldf"
     ]
    },
    "pythonIndentUnit": 4
   },
   "notebookName": "ingest_api_recently_played",
   "widgets": {}
  },
  "language_info": {
   "name": "python"
  }
 },
 "nbformat": 4,
 "nbformat_minor": 0
}
