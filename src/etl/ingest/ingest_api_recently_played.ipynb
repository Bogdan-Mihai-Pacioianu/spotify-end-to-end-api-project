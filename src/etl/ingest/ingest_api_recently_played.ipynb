{
 "cells": [
  {
   "cell_type": "code",
   "execution_count": 0,
   "metadata": {
    "application/vnd.databricks.v1+cell": {
     "cellMetadata": {
      "byteLimit": 2048000,
      "rowLimit": 10000
     },
     "inputWidgets": {},
     "nuid": "4bcede55-be62-4d48-a395-13979f2d0d8c",
     "showTitle": false,
     "tableResultSettingsMap": {},
     "title": ""
    }
   },
   "outputs": [],
   "source": [
    "import requests\n",
    "import json\n",
    "from src.utils.token_and_auth import Auth\n",
    "from datetime import datetime"
   ]
  },
  {
   "cell_type": "code",
   "execution_count": 0,
   "metadata": {
    "application/vnd.databricks.v1+cell": {
     "cellMetadata": {
      "byteLimit": 2048000,
      "rowLimit": 10000
     },
     "inputWidgets": {},
     "nuid": "b047b9ac-9b1f-4cd9-896e-eaf921c6254e",
     "showTitle": false,
     "tableResultSettingsMap": {},
     "title": ""
    }
   },
   "outputs": [],
   "source": [
    "auth = Auth()\n",
    "token = auth.get_access_token()\n",
    "print(token)\n",
    "# headers = auth.get_authorization_header(token)\n",
    "headers = auth.get_authorization_header(token)\n",
    "\n",
    "current_time = datetime.now().strftime('%Y-%m-%d %H:%M:%S')\n",
    "\n",
    "params = {\"limit\": 10}  # optional: after, before\n",
    "url =\"https://api.spotify.com/v1/me/player/recently-played\"\n"
   ]
  },
  {
   "cell_type": "code",
   "execution_count": 0,
   "metadata": {
    "application/vnd.databricks.v1+cell": {
     "cellMetadata": {
      "byteLimit": 2048000,
      "rowLimit": 10000
     },
     "inputWidgets": {},
     "nuid": "a3ee9e61-0612-4175-9f44-d4d395b4bde5",
     "showTitle": false,
     "tableResultSettingsMap": {},
     "title": ""
    }
   },
   "outputs": [],
   "source": [
    "print(f\"A inceput ingestia tabelului de recently_played la ora {current_time}\")\n",
    "\n",
    "\n",
    "\n",
    "params = {\"limit\": 50}  # optional: after, before\n",
    "headers = {'Authorization': f'Bearer {token}'}\n",
    "r = requests.get(url, headers=headers, params=params, timeout=15)\n",
    "\n",
    "# r.raise_for_status()\n",
    "data = r.json()\n",
    "display(data)"
   ]
  }
 ],
 "metadata": {
  "application/vnd.databricks.v1+notebook": {
   "computePreferences": null,
   "dashboards": [],
   "environmentMetadata": {
    "base_environment": "",
    "environment_version": "4"
   },
   "inputWidgetPreferences": null,
   "language": "python",
   "notebookMetadata": {
    "pythonIndentUnit": 4
   },
   "notebookName": "ingest_api_recently_played",
   "widgets": {}
  },
  "language_info": {
   "name": "python"
  }
 },
 "nbformat": 4,
 "nbformat_minor": 0
}
