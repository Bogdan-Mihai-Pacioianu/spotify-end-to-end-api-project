{
 "cells": [
  {
   "cell_type": "code",
   "execution_count": 0,
   "metadata": {
    "application/vnd.databricks.v1+cell": {
     "cellMetadata": {
      "byteLimit": 2048000,
      "rowLimit": 10000
     },
     "inputWidgets": {},
     "nuid": "e56bbb55-4434-4c79-ad09-0b10491bf0ef",
     "showTitle": true,
     "tableResultSettingsMap": {},
     "title": "imports"
    }
   },
   "outputs": [],
   "source": [
    "import requests\n",
    "import base64\n",
    "import json\n",
    "import pandas as pd\n",
    "import pyspark.sql.types as T\n",
    "import pandas as pd"
   ]
  },
  {
   "cell_type": "code",
   "execution_count": 0,
   "metadata": {
    "application/vnd.databricks.v1+cell": {
     "cellMetadata": {
      "byteLimit": 2048000,
      "rowLimit": 10000
     },
     "inputWidgets": {},
     "nuid": "79644c8a-912f-4c24-afa2-848f57ca537b",
     "showTitle": true,
     "tableResultSettingsMap": {},
     "title": "Widgets"
    }
   },
   "outputs": [],
   "source": [
    "dbutils.widgets.text(\"playlist_id\", \"\")\n",
    "dbutils.widgets.text(\"table_name_bronze\", \"\")\n",
    "\n",
    "\n",
    "table_name_bronze = dbutils.widgets.get(\"table_name_bronze\")"
   ]
  },
  {
   "cell_type": "code",
   "execution_count": 0,
   "metadata": {
    "application/vnd.databricks.v1+cell": {
     "cellMetadata": {
      "byteLimit": 2048000,
      "rowLimit": 10000
     },
     "inputWidgets": {},
     "nuid": "3905716b-2200-460c-bc18-cde715342501",
     "showTitle": true,
     "tableResultSettingsMap": {},
     "title": "Auth and Token"
    }
   },
   "outputs": [],
   "source": [
    "def get_access_token():\n",
    "        client_id = dbutils.secrets.get(scope=\"spotify_secrets\",key=\"user\")\n",
    "        client_secret = dbutils.secrets.get(scope=\"spotify_secrets\",key=\"client_secret\")    \n",
    "\n",
    "        # 1. Codificare Base64 pentru Client ID și Client Secret\n",
    "        auth_string = f\"{client_id}:{client_secret}\"\n",
    "        auth_bytes = auth_string.encode(\"utf-8\")\n",
    "        auth_base64 = str(base64.b64encode(auth_bytes), \"utf-8\")\n",
    "        auth_url = 'https://accounts.spotify.com/api/token'\n",
    "\n",
    "        headers = {\n",
    "            \"Authorization\": f\"Basic {auth_base64}\",\n",
    "            \"Content-Type\": \"application/x-www-form-urlencoded\"\n",
    "        }\n",
    "\n",
    "        data = {\"grant_type\": \"client_credentials\"}\n",
    "        # 2. API request\n",
    "        response = requests.post(auth_url, headers=headers, data=data)\n",
    "        \n",
    "        if response.status_code == 200:\n",
    "            return response.json()['access_token']\n",
    "        else:\n",
    "            raise Exception(\"Nu s-a putut reîmprospăta token-ul.\")\n",
    "    \n",
    "\n",
    "def get_authorization_header(self,token):\n",
    "    return {\"Authorization\": f\"Basic {token}\"}"
   ]
  },
  {
   "cell_type": "code",
   "execution_count": 0,
   "metadata": {
    "application/vnd.databricks.v1+cell": {
     "cellMetadata": {
      "byteLimit": 2048000,
      "rowLimit": 10000
     },
     "inputWidgets": {},
     "nuid": "4ba6aac8-a473-4ae7-adef-1c5f723dfffa",
     "showTitle": true,
     "tableResultSettingsMap": {
      "0": {
       "dataGridStateBlob": "{\"version\":1,\"tableState\":{\"columnPinning\":{\"left\":[\"#row_number#\"],\"right\":[]},\"columnSizing\":{\"Id_Artist\":594},\"columnVisibility\":{}},\"settings\":{\"columns\":{}},\"syncTimestamp\":1760646404686}",
       "filterBlob": null,
       "queryPlanFiltersBlob": null,
       "tableResultIndex": 0
      }
     },
     "title": "Get Playlist Items"
    }
   },
   "outputs": [],
   "source": [
    "# --- Datele tale (presupunem că le ai deja) ---\n",
    "token = get_access_token()\n",
    "playlist_id = dbutils.widgets.get(\"playlist_id\")\n",
    "url =  f\"https://api.spotify.com/v1/playlists/{playlist_id}/tracks\"\n",
    "\n",
    "headers = {\"Authorization\": f\"Bearer {token}\",\n",
    "           \"Content-Type\": \"application/json\"\n",
    "           }\n",
    "\n",
    "print(f\"Încep extragerea melodiilor din playlistul {playlist_id}...\")\n",
    "try:\n",
    "    # 1. Fă request-ul la API\n",
    "    response = requests.get(url, headers=headers)\n",
    "\n",
    "    # 2. Verifică dacă request-ul a avut succes (ex: cod 200 OK)\n",
    "    response.raise_for_status()\n",
    "\n",
    "    # 3. Parsează JSON-ul direct într-un dicționar Python\n",
    "    # ACEASTA ESTE LINIA CHEIE. Nu e nevoie de Spark.\n",
    "    data = response.json()\n",
    "\n",
    "    print(\"Displai response request >>>>>>>>>> \\n\")\n",
    "\n",
    "    # 4. Extrage lista de melodii ('items') din datele primite\n",
    "    playlist_items = data.get(\"items\", [])\n",
    "    playlist_track = playlist_items[0][\"track\"]\n",
    "    print(f\"Am găsit {len(playlist_items)} melodii.\")\n",
    "\n",
    "    # 5. (Opțional) Procesează și afișează datele relevante\n",
    "    tracks_info = []\n",
    "    for item in playlist_items:\n",
    "        track = item.get('track')\n",
    "        if track:\n",
    "            id = track.get('id')\n",
    "            track_name = track.get('name')\n",
    "            popolarity = track.get('popularity')\n",
    "            duration_ms = track.get('duration_ms')\n",
    "            track_number = track.get('track_number')\n",
    "            disc_number = track.get('disc_number')\n",
    "            \n",
    "            artist_names = [artist['name'] for artist in track.get('artists', [])]\n",
    "            artist_id = [artist['id'] for artist in track.get('artists', [])]\n",
    "            \n",
    "\n",
    "            tracks_info.append({\n",
    "                \"Plailist_ID\" : playlist_id,\n",
    "                \"Id_Track\": id,\n",
    "                \"Nume_Melodie\": track_name,\n",
    "                \"Artist\": \", \".join(artist_names),\n",
    "                \"Id_Artist\": \", \".join(artist_id),\n",
    "                \"Popularity\": popolarity,\n",
    "                \"Duration_ms\": duration_ms,\n",
    "                \"Track_Number\": track_number,\n",
    "                \"Disc_Number\": disc_number,\n",
    "                \"Album\": track.get('album').get('name'),\n",
    "                \"Number_OF_Artist\" : len(artist_names)\n",
    "            })\n",
    "\n",
    "except requests.exceptions.HTTPError as http_err:\n",
    "        print(f\"Eroare HTTP: {http_err}\")\n",
    "        print(f\"Răspuns API: {response.text}\")\n",
    "except Exception as err:\n",
    "    print(f\"A apărut o altă eroare: {err}\")    \n",
    "\n",
    "bronze_playlist_df = spark.createDataFrame(tracks_info)\n",
    "display(bronze_playlist_df)\n",
    "\n",
    "\n",
    "       "
   ]
  },
  {
   "cell_type": "code",
   "execution_count": 0,
   "metadata": {
    "application/vnd.databricks.v1+cell": {
     "cellMetadata": {
      "byteLimit": 2048000,
      "rowLimit": 10000
     },
     "inputWidgets": {},
     "nuid": "d1459a99-9866-4ee3-b239-15ea9fe0e537",
     "showTitle": false,
     "tableResultSettingsMap": {},
     "title": ""
    }
   },
   "outputs": [],
   "source": [
    "bronze_playlist_df = spark.createDataFrame(tracks_info)"
   ]
  },
  {
   "cell_type": "code",
   "execution_count": 0,
   "metadata": {
    "application/vnd.databricks.v1+cell": {
     "cellMetadata": {
      "byteLimit": 2048000,
      "rowLimit": 10000
     },
     "inputWidgets": {},
     "nuid": "49711a87-58d3-41b5-8460-4783e9ec722f",
     "showTitle": true,
     "tableResultSettingsMap": {},
     "title": "Write Bronze"
    }
   },
   "outputs": [],
   "source": [
    "bronze_playlist_df.write.format(\"delta\").mode(\"overwrite\").option(\"meregeSchema\",\"true\").option(\"overwriteSchema\", \"true\").saveAsTable(f\"spotify_etl.bronze.{table_name_bronze}_{playlist_id}\")"
   ]
  }
 ],
 "metadata": {
  "application/vnd.databricks.v1+notebook": {
   "computePreferences": null,
   "dashboards": [],
   "environmentMetadata": {
    "base_environment": "",
    "environment_version": "4"
   },
   "inputWidgetPreferences": null,
   "language": "python",
   "notebookMetadata": {
    "mostRecentlyExecutedCommandWithImplicitDF": {
     "commandId": 5505379563566292,
     "dataframes": [
      "_sqldf"
     ]
    },
    "pythonIndentUnit": 4
   },
   "notebookName": "ingest_api_playlists_items_bronze",
   "widgets": {
    "playlist_id": {
     "currentValue": "5h1oEk4W9KVMHkOd8WWWlC",
     "nuid": "e58497e8-1390-4b46-aad6-ac54a7a4cbe7",
     "typedWidgetInfo": {
      "autoCreated": false,
      "defaultValue": "",
      "label": null,
      "name": "playlist_id",
      "options": {
       "widgetDisplayType": "Text",
       "validationRegex": null
      },
      "parameterDataType": "String"
     },
     "widgetInfo": {
      "widgetType": "text",
      "defaultValue": "",
      "label": null,
      "name": "playlist_id",
      "options": {
       "widgetType": "text",
       "autoCreated": null,
       "validationRegex": null
      }
     }
    },
    "table_name_bronze": {
     "currentValue": "bronze_playlist_item",
     "nuid": "4d60505d-d680-42e8-af2d-eda78ee98321",
     "typedWidgetInfo": {
      "autoCreated": false,
      "defaultValue": "",
      "label": null,
      "name": "table_name_bronze",
      "options": {
       "widgetDisplayType": "Text",
       "validationRegex": null
      },
      "parameterDataType": "String"
     },
     "widgetInfo": {
      "widgetType": "text",
      "defaultValue": "",
      "label": null,
      "name": "table_name_bronze",
      "options": {
       "widgetType": "text",
       "autoCreated": null,
       "validationRegex": null
      }
     }
    }
   }
  },
  "language_info": {
   "name": "python"
  }
 },
 "nbformat": 4,
 "nbformat_minor": 0
}
