{
 "cells": [
  {
   "cell_type": "code",
   "execution_count": 0,
   "metadata": {
    "application/vnd.databricks.v1+cell": {
     "cellMetadata": {
      "byteLimit": 2048000,
      "rowLimit": 10000
     },
     "inputWidgets": {},
     "nuid": "e56bbb55-4434-4c79-ad09-0b10491bf0ef",
     "showTitle": true,
     "tableResultSettingsMap": {},
     "title": "imports"
    }
   },
   "outputs": [],
   "source": [
    "import requests\n",
    "import base64\n",
    "import json"
   ]
  },
  {
   "cell_type": "code",
   "execution_count": 0,
   "metadata": {
    "application/vnd.databricks.v1+cell": {
     "cellMetadata": {
      "byteLimit": 2048000,
      "rowLimit": 10000
     },
     "inputWidgets": {},
     "nuid": "3905716b-2200-460c-bc18-cde715342501",
     "showTitle": true,
     "tableResultSettingsMap": {},
     "title": "Auth and Token"
    }
   },
   "outputs": [],
   "source": [
    "def get_access_token():\n",
    "        client_id = dbutils.secrets.get(scope=\"spotify_secrets\",key=\"user\")\n",
    "        client_secret = dbutils.secrets.get(scope=\"spotify_secrets\",key=\"client_secret\")    \n",
    "\n",
    "        # 1. Codificare Base64 pentru Client ID și Client Secret\n",
    "        auth_string = f\"{client_id}:{client_secret}\"\n",
    "        auth_bytes = auth_string.encode(\"utf-8\")\n",
    "        auth_base64 = str(base64.b64encode(auth_bytes), \"utf-8\")\n",
    "        auth_url = 'https://accounts.spotify.com/api/token'\n",
    "\n",
    "        headers = {\n",
    "            \"Authorization\": f\"Basic {auth_base64}\",\n",
    "            \"Content-Type\": \"application/x-www-form-urlencoded\"\n",
    "        }\n",
    "\n",
    "        data = {\"grant_type\": \"client_credentials\"}\n",
    "        # 2. API request\n",
    "        response = requests.post(auth_url, headers=headers, data=data)\n",
    "        \n",
    "        if response.status_code == 200:\n",
    "            return response.json()['access_token']\n",
    "        else:\n",
    "            raise Exception(\"Nu s-a putut reîmprospăta token-ul.\")\n",
    "    \n",
    "\n",
    "def get_authorization_header(self,token):\n",
    "    return {\"Authorization\": f\"Basic {token}\"}"
   ]
  },
  {
   "cell_type": "code",
   "execution_count": 0,
   "metadata": {
    "application/vnd.databricks.v1+cell": {
     "cellMetadata": {
      "byteLimit": 2048000,
      "rowLimit": 10000
     },
     "inputWidgets": {},
     "nuid": "4ba6aac8-a473-4ae7-adef-1c5f723dfffa",
     "showTitle": true,
     "tableResultSettingsMap": {},
     "title": "Get Playlist Items"
    }
   },
   "outputs": [],
   "source": [
    "# --- Datele tale (presupunem că le ai deja) ---\n",
    "token = get_access_token()\n",
    "playlist_id = \"5h1oEk4W9KVMHkOd8WWWlC\"\n",
    "\n",
    "headers = {\"Authorization\": f\"Bearer {token}\"}\n",
    "\n",
    "# --- Construirea cererii inițiale ---\n",
    "# Folosim 'fields' pentru a cere doar ce ne interesează și a face răspunsul mai curat\n",
    "fields_query = \"items(track(id,name,uri)),next\"\n",
    "initial_url = f\"https://api.spotify.com/v1/playlists/{playlist_id}/tracks?fields={fields_query}&limit=100\"\n",
    "# initial_url =  f\"https://api.spotify.com/v1/playlists/{playlist_id}/tracks\"\n",
    "\n",
    "print(f\"Încep extragerea melodiilor din playlistul {playlist_id}...\")\n",
    "\n",
    "# --- Logica de paginare ---\n",
    "all_playlist_items = []\n",
    "current_url = initial_url\n",
    "\n",
    "while current_url:\n",
    "    try:\n",
    "        response = requests.get(current_url, headers=headers)\n",
    "        # Verifică dacă cererea a avut succes (cod 200 OK)\n",
    "        response.raise_for_status() \n",
    "        data = response.json()\n",
    "        # Adaugă melodiile din pagina curentă la lista totală\n",
    "        if 'items' in data:\n",
    "            all_playlist_items.extend(data['items'])\n",
    "            print(f\"Am extras {len(data['items'])} melodii. Total acum: {len(all_playlist_items)}.\")\n",
    "        # Pregătește următorul apel folosind link-ul de paginare\n",
    "        current_url = data.get('next') \n",
    "    except requests.exceptions.HTTPError as err:\n",
    "        print(f\"A apărut o eroare HTTP: {err}\")\n",
    "        print(f\"Răspuns de la server: {response.text}\")\n",
    "        break\n",
    "    except Exception as e:\n",
    "        print(f\"A apărut o eroare neașteptată: {e}\")\n",
    "        break\n",
    "print(\"\\n--- Extragere finalizată! ---\")\n",
    "print(f\"Numărul total de melodii în playlist: {len(all_playlist_items)}\")\n"
   ]
  },
  {
   "cell_type": "code",
   "execution_count": 0,
   "metadata": {
    "application/vnd.databricks.v1+cell": {
     "cellMetadata": {
      "byteLimit": 2048000,
      "rowLimit": 10000
     },
     "inputWidgets": {},
     "nuid": "f4b142fc-fbe3-4741-82ec-2786a01e9f2d",
     "showTitle": true,
     "tableResultSettingsMap": {},
     "title": "Create DataFrame"
    }
   },
   "outputs": [],
   "source": [
    "tracks_data = [item['track'] for item in all_playlist_items if item.get('track')]\n",
    "bronze_playlist_df = spark.createDataFrame(tracks_data)\n"
   ]
  },
  {
   "cell_type": "code",
   "execution_count": 0,
   "metadata": {
    "application/vnd.databricks.v1+cell": {
     "cellMetadata": {
      "byteLimit": 2048000,
      "rowLimit": 10000
     },
     "inputWidgets": {},
     "nuid": "49711a87-58d3-41b5-8460-4783e9ec722f",
     "showTitle": false,
     "tableResultSettingsMap": {},
     "title": ""
    }
   },
   "outputs": [],
   "source": [
    "bronze_playlist_df.write.format(\"delta\").mode(\"overwrite\").saveAsTable(\"spotify_etl.bronze.bronze_playlist\")"
   ]
  }
 ],
 "metadata": {
  "application/vnd.databricks.v1+notebook": {
   "computePreferences": null,
   "dashboards": [],
   "environmentMetadata": {
    "base_environment": "",
    "environment_version": "4"
   },
   "inputWidgetPreferences": null,
   "language": "python",
   "notebookMetadata": {
    "pythonIndentUnit": 4
   },
   "notebookName": "Ingest_API_Bronze",
   "widgets": {}
  },
  "language_info": {
   "name": "python"
  }
 },
 "nbformat": 4,
 "nbformat_minor": 0
}
